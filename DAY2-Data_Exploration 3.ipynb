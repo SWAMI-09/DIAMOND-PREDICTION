{
 "cells": [
  {
   "cell_type": "code",
   "execution_count": 1,
   "metadata": {
    "ExecuteTime": {
     "end_time": "2018-12-28T12:59:46.051090Z",
     "start_time": "2018-12-28T12:59:40.945392Z"
    }
   },
   "outputs": [],
   "source": [
    "#!/usr/bin/env python3\n",
    "#### Import all the required libraries\n",
    "import pandas as pd #### Library for working with large datsets\n",
    "import numpy as np #### Library for performing numerical calculations\n",
    "import matplotlib.pyplot as plt #### Basic Library for plotting graphs\n",
    "#### Configuring Matplotlib to show Plots inline\n",
    "%matplotlib inline \n",
    "plt.rcParams['figure.figsize'] = (12, 12) ### Setting the size of the Plots"
   ]
  },
  {
   "cell_type": "code",
   "execution_count": 2,
   "metadata": {
    "ExecuteTime": {
     "end_time": "2018-12-28T12:59:46.648625Z",
     "start_time": "2018-12-28T12:59:46.059301Z"
    }
   },
   "outputs": [
    {
     "name": "stdout",
     "output_type": "stream",
     "text": [
      "    Country   Age   Salary Purchased\n",
      "0    France  44.0  72000.0        No\n",
      "1     Spain  27.0  48000.0       Yes\n",
      "2   Germany  30.0  54000.0        No\n",
      "3     Spain  38.0  61000.0        No\n",
      "4   Germany  40.0      NaN       Yes\n",
      "5    France  35.0  58000.0       Yes\n",
      "6     Spain   NaN  52000.0        No\n",
      "7    France  48.0  79000.0       Yes\n",
      "8   Germany  50.0  83000.0        No\n",
      "9    France  37.0  67000.0       Yes\n",
      "10    India   NaN  78000.0        No\n",
      "11    India  28.0      NaN       Yes\n",
      "12    Spain  36.0  56000.0       Yes\n",
      "13   France  42.0  70000.0       Yes\n",
      "14  Germany  50.0  86000.0        No\n",
      "15    India  30.0  90000.0       Yes\n"
     ]
    }
   ],
   "source": [
    "#### Load the Data File\n",
    "data = pd.read_csv('Sample_Data.csv')\n",
    "print(data)"
   ]
  },
  {
   "cell_type": "code",
   "execution_count": 3,
   "metadata": {
    "ExecuteTime": {
     "end_time": "2018-12-28T12:59:46.725677Z",
     "start_time": "2018-12-28T12:59:46.683152Z"
    }
   },
   "outputs": [
    {
     "name": "stdout",
     "output_type": "stream",
     "text": [
      "<class 'pandas.core.frame.DataFrame'>\n",
      "RangeIndex: 16 entries, 0 to 15\n",
      "Data columns (total 4 columns):\n",
      " #   Column     Non-Null Count  Dtype  \n",
      "---  ------     --------------  -----  \n",
      " 0   Country    16 non-null     object \n",
      " 1   Age        14 non-null     float64\n",
      " 2   Salary     14 non-null     float64\n",
      " 3   Purchased  16 non-null     object \n",
      "dtypes: float64(2), object(2)\n",
      "memory usage: 640.0+ bytes\n",
      "None\n"
     ]
    }
   ],
   "source": [
    "#### Check the General Information about the loaded dataset\n",
    "print(data.info()) ### Float"
   ]
  },
  {
   "cell_type": "code",
   "execution_count": 4,
   "metadata": {
    "ExecuteTime": {
     "end_time": "2018-12-28T12:59:46.935428Z",
     "start_time": "2018-12-28T12:59:46.741404Z"
    }
   },
   "outputs": [
    {
     "name": "stdout",
     "output_type": "stream",
     "text": [
      "             Age        Salary\n",
      "count  14.000000     14.000000\n",
      "mean   38.214286  68142.857143\n",
      "std     7.875752  13643.015361\n",
      "min    27.000000  48000.000000\n",
      "25%    31.250000  56500.000000\n",
      "50%    37.500000  68500.000000\n",
      "75%    43.500000  78750.000000\n",
      "max    50.000000  90000.000000\n"
     ]
    }
   ],
   "source": [
    "#### Check Data Description Overview\n",
    "print(data.describe())"
   ]
  },
  {
   "cell_type": "markdown",
   "metadata": {},
   "source": [
    "#### ##### Handling Missing Values - We have missing Values in 2 Columns Age & Salary\n"
   ]
  },
  {
   "cell_type": "code",
   "execution_count": 5,
   "metadata": {
    "ExecuteTime": {
     "end_time": "2018-12-28T12:59:46.975412Z",
     "start_time": "2018-12-28T12:59:46.938324Z"
    }
   },
   "outputs": [
    {
     "name": "stdout",
     "output_type": "stream",
     "text": [
      "    Country        Age   Salary Purchased\n",
      "0    France  44.000000  72000.0        No\n",
      "1     Spain  27.000000  48000.0       Yes\n",
      "2   Germany  30.000000  54000.0        No\n",
      "3     Spain  38.000000  61000.0        No\n",
      "4   Germany  40.000000      NaN       Yes\n",
      "5    France  35.000000  58000.0       Yes\n",
      "6     Spain  38.214286  52000.0        No\n",
      "7    France  48.000000  79000.0       Yes\n",
      "8   Germany  50.000000  83000.0        No\n",
      "9    France  37.000000  67000.0       Yes\n",
      "10    India  38.214286  78000.0        No\n",
      "11    India  28.000000      NaN       Yes\n",
      "12    Spain  36.000000  56000.0       Yes\n",
      "13   France  42.000000  70000.0       Yes\n",
      "14  Germany  50.000000  86000.0        No\n",
      "15    India  30.000000  90000.0       Yes\n"
     ]
    }
   ],
   "source": [
    "#### Lets fix the missing Age with respect to the Mean value for Age\n",
    "mean = np.mean(data.Age)\n",
    "data.Age = data.Age.fillna(mean)\n",
    "print(data)"
   ]
  },
  {
   "cell_type": "code",
   "execution_count": 6,
   "metadata": {
    "ExecuteTime": {
     "end_time": "2018-12-28T12:59:47.054777Z",
     "start_time": "2018-12-28T12:59:46.993096Z"
    }
   },
   "outputs": [],
   "source": [
    "#### Lets use an inbuilt function interpolate to fix the salary mixing values\n",
    "data.Salary = data.Salary.interpolate()"
   ]
  },
  {
   "cell_type": "code",
   "execution_count": 7,
   "metadata": {
    "ExecuteTime": {
     "end_time": "2018-12-28T12:59:47.170525Z",
     "start_time": "2018-12-28T12:59:47.061557Z"
    }
   },
   "outputs": [
    {
     "name": "stdout",
     "output_type": "stream",
     "text": [
      "    Country        Age   Salary Purchased\n",
      "0    France  44.000000  72000.0        No\n",
      "1     Spain  27.000000  48000.0       Yes\n",
      "2   Germany  30.000000  54000.0        No\n",
      "3     Spain  38.000000  61000.0        No\n",
      "4   Germany  40.000000  59500.0       Yes\n",
      "5    France  35.000000  58000.0       Yes\n",
      "6     Spain  38.214286  52000.0        No\n",
      "7    France  48.000000  79000.0       Yes\n",
      "8   Germany  50.000000  83000.0        No\n",
      "9    France  37.000000  67000.0       Yes\n",
      "10    India  38.214286  78000.0        No\n",
      "11    India  28.000000  67000.0       Yes\n",
      "12    Spain  36.000000  56000.0       Yes\n",
      "13   France  42.000000  70000.0       Yes\n",
      "14  Germany  50.000000  86000.0        No\n",
      "15    India  30.000000  90000.0       Yes\n"
     ]
    }
   ],
   "source": [
    "print(data)"
   ]
  },
  {
   "cell_type": "markdown",
   "metadata": {},
   "source": [
    "#### ####  - Lets See How a Pair of Variables is distributed in relation to each other"
   ]
  },
  {
   "cell_type": "code",
   "execution_count": 8,
   "metadata": {
    "ExecuteTime": {
     "end_time": "2018-12-28T12:59:48.194129Z",
     "start_time": "2018-12-28T12:59:47.201704Z"
    }
   },
   "outputs": [
    {
     "data": {
      "text/plain": [
       "<AxesSubplot:xlabel='Age', ylabel='Salary'>"
      ]
     },
     "execution_count": 8,
     "metadata": {},
     "output_type": "execute_result"
    },
    {
     "data": {
      "image/png": "[encoded data removed]",
      "text/plain": [
       "<Figure size 864x864 with 1 Axes>"
      ]
     },
     "metadata": {
      "needs_background": "light"
     },
     "output_type": "display_data"
    }
   ],
   "source": [
    "#### Lets use a scatter plot to see how Age and Salary are distributed\n",
    "data.plot.scatter(x='Age', y='Salary')"
   ]
  },
  {
   "cell_type": "code",
   "execution_count": 9,
   "metadata": {
    "ExecuteTime": {
     "end_time": "2018-12-28T12:59:48.430049Z",
     "start_time": "2018-12-28T12:59:48.197627Z"
    }
   },
   "outputs": [
    {
     "name": "stdout",
     "output_type": "stream",
     "text": [
      "   Country   Age   Salary Purchased\n",
      "0   France  44.0  72000.0        No\n",
      "1    Spain  27.0  48000.0       Yes\n",
      "2  Germany  30.0  54000.0        No\n",
      "3    Spain  38.0  61000.0        No\n",
      "4  Germany  40.0      NaN       Yes\n",
      "5   France  35.0  58000.0       Yes\n",
      "6    Spain   NaN  52000.0        No\n",
      "7   France  48.0  79000.0       Yes\n",
      "8  Germany  50.0  83000.0        No\n",
      "9   France  37.0  67000.0       Yes\n"
     ]
    }
   ],
   "source": [
    "### lets drop all the dummy data we added - the last 6 records\n",
    "data = pd.read_csv('https://raw.githubusercontent.com/pracasrv/machine-learning-getting-started-ws/master/data/Sample_Data.csv')\n",
    "data = data[:-6]\n",
    "print(data)"
   ]
  },
  {
   "cell_type": "code",
   "execution_count": 10,
   "metadata": {
    "ExecuteTime": {
     "end_time": "2018-12-28T12:59:48.598828Z",
     "start_time": "2018-12-28T12:59:48.456513Z"
    }
   },
   "outputs": [
    {
     "name": "stdout",
     "output_type": "stream",
     "text": [
      "   Country   Age   Salary Purchased\n",
      "0   France  44.0  72000.0        No\n",
      "1    Spain  27.0  48000.0       Yes\n",
      "2  Germany  30.0  54000.0        No\n",
      "3    Spain  38.0  61000.0        No\n",
      "4  Germany  40.0      NaN       Yes\n",
      "5   France  35.0  58000.0       Yes\n",
      "6    Spain  32.5  52000.0        No\n",
      "7   France  48.0  79000.0       Yes\n",
      "8  Germany  50.0  83000.0        No\n",
      "9   France  37.0  67000.0       Yes\n"
     ]
    }
   ],
   "source": [
    "#Lets compute mean of the missing values\n",
    "#### by their respective countries and see how the graph comes out\n",
    "mean_ages = data.groupby('Country').Age.mean()\n",
    "\n",
    "data.Age = data.Age.fillna(mean_ages.Spain)\n",
    "print(data)"
   ]
  },
  {
   "cell_type": "code",
   "execution_count": 11,
   "metadata": {
    "ExecuteTime": {
     "end_time": "2018-12-28T12:59:48.683408Z",
     "start_time": "2018-12-28T12:59:48.602178Z"
    }
   },
   "outputs": [
    {
     "name": "stdout",
     "output_type": "stream",
     "text": [
      "   Country   Age   Salary Purchased\n",
      "0   France  44.0  72000.0        No\n",
      "1    Spain  27.0  48000.0       Yes\n",
      "2  Germany  30.0  54000.0        No\n",
      "3    Spain  38.0  61000.0        No\n",
      "4  Germany  40.0  68500.0       Yes\n",
      "5   France  35.0  58000.0       Yes\n",
      "6    Spain  32.5  52000.0        No\n",
      "7   France  48.0  79000.0       Yes\n",
      "8  Germany  50.0  83000.0        No\n",
      "9   France  37.0  67000.0       Yes\n"
     ]
    }
   ],
   "source": [
    "mean_salary = data.groupby('Country').Salary.mean()\n",
    "data.Salary = data.Salary.fillna(mean_salary.Germany)\n",
    "print(data)"
   ]
  },
  {
   "cell_type": "code",
   "execution_count": 12,
   "metadata": {
    "ExecuteTime": {
     "end_time": "2018-12-28T12:59:49.214466Z",
     "start_time": "2018-12-28T12:59:48.702263Z"
    }
   },
   "outputs": [
    {
     "data": {
      "text/plain": [
       "<AxesSubplot:xlabel='Age', ylabel='Salary'>"
      ]
     },
     "execution_count": 12,
     "metadata": {},
     "output_type": "execute_result"
    },
    {
     "data": {
      "image/png": "[encoded data removed]",
      "text/plain": [
       "<Figure size 864x864 with 1 Axes>"
      ]
     },
     "metadata": {
      "needs_background": "light"
     },
     "output_type": "display_data"
    }
   ],
   "source": [
    "data.plot.scatter(x='Age', y='Salary')"
   ]
  },
  {
   "cell_type": "markdown",
   "metadata": {},
   "source": [
    "###  One Hot Encoding\n",
    "Replace categorical values by creating new columns and creating a binary representation\n",
    "\n",
    "##### Lets replace the Country Values with their corresponding one hot encoded values"
   ]
  },
  {
   "cell_type": "code",
   "execution_count": 13,
   "metadata": {
    "ExecuteTime": {
     "end_time": "2018-12-28T12:59:49.292268Z",
     "start_time": "2018-12-28T12:59:49.222619Z"
    }
   },
   "outputs": [
    {
     "name": "stdout",
     "output_type": "stream",
     "text": [
      "   France  Germany  Spain\n",
      "0       1        0      0\n",
      "1       0        0      1\n",
      "2       0        1      0\n",
      "3       0        0      1\n",
      "4       0        1      0\n",
      "5       1        0      0\n",
      "6       0        0      1\n",
      "7       1        0      0\n",
      "8       0        1      0\n",
      "9       1        0      0\n"
     ]
    }
   ],
   "source": [
    "#### First lets extract the one hot encoded columns into a new data_frame called one_hot\n",
    "one_hot_data = pd.get_dummies(data['Country'])\n",
    "print(one_hot_data)"
   ]
  },
  {
   "cell_type": "code",
   "execution_count": 14,
   "metadata": {
    "ExecuteTime": {
     "end_time": "2018-12-28T12:59:49.391908Z",
     "start_time": "2018-12-28T12:59:49.308719Z"
    }
   },
   "outputs": [
    {
     "name": "stdout",
     "output_type": "stream",
     "text": [
      "   Country   Age   Salary Purchased  France  Germany  Spain\n",
      "0   France  44.0  72000.0        No       1        0      0\n",
      "1    Spain  27.0  48000.0       Yes       0        0      1\n",
      "2  Germany  30.0  54000.0        No       0        1      0\n",
      "3    Spain  38.0  61000.0        No       0        0      1\n",
      "4  Germany  40.0  68500.0       Yes       0        1      0\n",
      "5   France  35.0  58000.0       Yes       1        0      0\n",
      "6    Spain  32.5  52000.0        No       0        0      1\n",
      "7   France  48.0  79000.0       Yes       1        0      0\n",
      "8  Germany  50.0  83000.0        No       0        1      0\n",
      "9   France  37.0  67000.0       Yes       1        0      0\n"
     ]
    }
   ],
   "source": [
    "#### Next lets drop the country row from our data frame\n",
    "#data = data.drop('Country',1)\n",
    "#### and add the new dataframe to our existing dataframe\n",
    "data = data.join(one_hot_data)\n",
    "print(data)"
   ]
  }
 ],
 "metadata": {
  "kernelspec": {
   "display_name": "Python 3",
   "language": "python",
   "name": "python3"
  },
  "language_info": {
   "codemirror_mode": {
    "name": "ipython",
    "version": 3
   },
   "file_extension": ".py",
   "mimetype": "text/x-python",
   "name": "python",
   "nbconvert_exporter": "python",
   "pygments_lexer": "ipython3",
   "version": "3.8.8"
  }
 },
 "nbformat": 4,
 "nbformat_minor": 2
}
